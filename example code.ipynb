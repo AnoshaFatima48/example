import warnings
import numpy as np
import pandas as pd
import matplotlib.pyplot as plt
import seaborn as sns
path = "./Pakistan Largest Ecommerce Dataset.csv"
df = pd.read_csv(path,  parse_dates = ["Customer Since", "M-Y"], low_memory = False, na_values = ["NaN", 'NaT', ' -   '])
pd.set_option('display.max_columns', None)
df.head(5)
df.tail(5)
#Droping off Un-necessary Columns
df.columns
#droping Columns = ['Unnamed: 21', 'Unnamed: 22', 'Unnamed: 23', 'Unnamed: 24', 'Unnamed: 25']
drop_columns_0 = df.columns[-5:]
drop_columns_0
df.drop(drop_columns_0, axis = 1, inplace = True)
#Droping Columns "items_id", "created_at", "increment_id", "sales_commission_code", "Working Date" , "BI Status" , "Year", "Month", "FY"
drop_columns_1 = ["item_id", "created_at", "increment_id", "sales_commission_code", "Working Date" , "BI Status" , "Year", "Month", "FY"]
df.drop(drop_columns_1, axis = 1, inplace = True)
#Re arranging Columns
df = df[['Customer ID', 'sku', 'category_name_1', 'status', 'qty_ordered',  'price', 'grand_total',
       'discount_amount', ' MV ', 'payment_method', 'Customer Since', 'M-Y']]
       #Check For Missing Data
missing = pd.DataFrame(df.isnull().sum())
missing.transpose()
total_missing_values = df.isnull().sum().sum()
total_missing_values
#Droping off Missing Values Rows
df.dropna(axis = 0, how = 'any', inplace = True)
#Checking again for missing values
missing = pd.DataFrame(df.isnull().sum())
missing.transpose()
total_missing_values = df.isnull().sum().sum()
total_missing_values
df.head(5)
df[' MV '].isnull().sum()#.sum()
#Extract Year and Month from 'M-Y' Column
# Extract Year
df['Year'] = df['M-Y'].apply(lambda x: int(x.year)) 

# Extract Month
df['Month'] = df['M-Y'].apply(lambda x: int(x.month)) 
df.drop('M-Y', axis = 1, inplace = True)

#Looking for 0 (zeros) in integer or float value columns
df[df['qty_ordered'] == 0]['qty_ordered'].value_counts()
df[df['qty_ordered'] == 0]['qty_ordered'].value_counts()
df[df[' MV '] == '0'][' MV '].value_counts()
df[df['grand_total'] == 0]['grand_total'].value_counts()
#found 9465 cells containing 0.0
#replace 0.0 from corresponding values of ' MV ' column
def replace_zeros(x, y):
    if x == 0:
        return y
    else: 
        return x
df.columns
df['grand_total'] = df.apply(lambda z: replace_zeros(z['grand_total'], z[' MV ']), axis = 1)
#Checking again
df[df['grand_total'] == 0]['grand_total'].value_counts()
#DataFrame Without 0(Zeros) and Null Values
df.head(5)
len(df)
