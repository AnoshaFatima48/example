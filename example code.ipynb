import warnings
import numpy as np
import pandas as pd
import matplotlib.pyplot as plt
import seaborn as sns
path = "./Pakistan Largest Ecommerce Dataset.csv"
df = pd.read_csv(path,  parse_dates = ["Customer Since", "M-Y"], low_memory = False, na_values = ["NaN", 'NaT', ' -   '])
pd.set_option('display.max_columns', None)
df.head(5)
df.tail(5)
#Droping off Un-necessary Columns
df.columns
#droping Columns = ['Unnamed: 21', 'Unnamed: 22', 'Unnamed: 23', 'Unnamed: 24', 'Unnamed: 25']
drop_columns_0 = df.columns[-5:]
drop_columns_0
df.drop(drop_columns_0, axis = 1, inplace = True)
#Droping Columns "items_id", "created_at", "increment_id", "sales_commission_code", "Working Date" , "BI Status" , "Year", "Month", "FY"
drop_columns_1 = ["item_id", "created_at", "increment_id", "sales_commission_code", "Working Date" , "BI Status" , "Year", "Month", "FY"]
df.drop(drop_columns_1, axis = 1, inplace = True)

